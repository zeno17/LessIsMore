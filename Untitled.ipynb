{
 "cells": [
  {
   "cell_type": "code",
   "execution_count": null,
   "metadata": {},
   "outputs": [],
   "source": [
    "#libraries involved in cleaning\n",
    "from cleaner_utils import super_cleaner\n",
    "from pretraining_data_utils import make_book_token_frequency, token_freq_df_to_dict, \\\n",
    "                                    all_available_tokens_from_df, optimize_book_subset, optimize_book_subset_ratio\n",
    "from pretraining_data_utils import book_properties, make_df_book_properties\n",
    "from pretraining_data_utils import SentenceChunker\n",
    "from gutenberg.acquire import load_etext\n",
    "\n",
    "\n",
    "#Library utilities\n",
    "from tokenizer.tokenizer import StrategizedTokenizer\n",
    "from dataset.dataset import StrategizedTokenizerDataset\n",
    "from dataset.dataset import DefaultTokenizerDataset\n",
    "\n",
    "#Training code\n",
    "from transformers import BertConfig\n",
    "from transformers import BertForMaskedLM\n",
    "from transformers import BertTokenizer\n",
    "from transformers import AdamW\n",
    "from transformers import Trainer, TrainingArguments\n",
    "\n",
    "from torch.utils.data import DataLoader\n",
    "\n",
    "#General imports\n",
    "import pandas as pd\n",
    "import numpy as np\n",
    "import matplotlib.pyplot as plt\n",
    "import spacy\n",
    "import re\n",
    "import json\n",
    "import torch\n",
    "import logging\n",
    "import pickle\n",
    "import os\n",
    "\n",
    "from more_itertools import take\n",
    "from datetime import datetime"
   ]
  }
 ],
 "metadata": {
  "kernelspec": {
   "display_name": "Python 3",
   "language": "python",
   "name": "python3"
  },
  "language_info": {
   "codemirror_mode": {
    "name": "ipython",
    "version": 3
   },
   "file_extension": ".py",
   "mimetype": "text/x-python",
   "name": "python",
   "nbconvert_exporter": "python",
   "pygments_lexer": "ipython3",
   "version": "3.8.3"
  }
 },
 "nbformat": 4,
 "nbformat_minor": 4
}
