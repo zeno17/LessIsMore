{
 "cells": [
  {
   "cell_type": "code",
   "execution_count": 1,
   "metadata": {},
   "outputs": [],
   "source": [
    "from gutenberg.acquire import load_etext\n",
    "from gutenberg.cleanup import strip_headers\n",
    "from gutenberg_cleaner import super_cleaner, simple_cleaner"
   ]
  },
  {
   "cell_type": "code",
   "execution_count": 2,
   "metadata": {},
   "outputs": [],
   "source": [
    "import spacy"
   ]
  },
  {
   "cell_type": "code",
   "execution_count": 3,
   "metadata": {},
   "outputs": [],
   "source": [
    "# text = strip_headers(load_etext(4031))\n",
    "# text"
   ]
  },
  {
   "cell_type": "code",
   "execution_count": 4,
   "metadata": {},
   "outputs": [
    {
     "data": {
      "text/plain": [
       "\"When on board H.M.S. 'Beagle,' as naturalist, I was much struck with certain facts in the distribution of the inhabitants of South America, and in the geological relations of the present to the past inhabitants of that continent. These facts seemed to me to throw some light on the origin of species--that mystery of mysteries, as it has been called by one of our greatest philosophers. On my return home, it occurred to me, in 1837, that something might perhaps be made out on this question by patiently accumulating and reflecting on all sorts of facts which could possibly have any bearing on it. After five years' work I allowed myself to speculate on the subject, and drew up some short notes; these I enlarged in 1844 into a sketch of the conclusions, which then seemed to me probable: from that period to the present day I have steadily pursued the same object. I hope that I may be excused for entering on these personal details, as I give them to show that I have not been hasty in coming to a decision.\""
      ]
     },
     "execution_count": 4,
     "metadata": {},
     "output_type": "execute_result"
    }
   ],
   "source": [
    "#Piece of text from Charles Darwin - On the origin of species\n",
    "text = \"\"\"When on board H.M.S. 'Beagle,' as naturalist, I was much struck with\n",
    "certain facts in the distribution of the inhabitants of South America,\n",
    "and in the geological relations of the present to the past inhabitants\n",
    "of that continent. These facts seemed to me to throw some light on the\n",
    "origin of species--that mystery of mysteries, as it has been called by\n",
    "one of our greatest philosophers. On my return home, it occurred to me,\n",
    "in 1837, that something might perhaps be made out on this question by\n",
    "patiently accumulating and reflecting on all sorts of facts which could\n",
    "possibly have any bearing on it. After five years' work I allowed myself\n",
    "to speculate on the subject, and drew up some short notes; these I\n",
    "enlarged in 1844 into a sketch of the conclusions, which then seemed to\n",
    "me probable: from that period to the present day I have steadily pursued\n",
    "the same object. I hope that I may be excused for entering on these\n",
    "personal details, as I give them to show that I have not been hasty in\n",
    "coming to a decision.\"\"\"\n",
    "text = text.replace(\"\\n\", \" \")\n",
    "text"
   ]
  },
  {
   "cell_type": "code",
   "execution_count": 5,
   "metadata": {},
   "outputs": [],
   "source": [
    "nlp = spacy.load(\"en_core_web_sm\")\n",
    "doc = nlp(text)\n",
    "assert doc.has_annotation(\"SENT_START\")\n",
    "sentences = []\n",
    "for sent in doc.sents:\n",
    "    sentences.append(sent.text)"
   ]
  },
  {
   "cell_type": "code",
   "execution_count": 6,
   "metadata": {
    "scrolled": true
   },
   "outputs": [
    {
     "data": {
      "text/plain": [
       "[\"When on board H.M.S. 'Beagle,' as naturalist, I was much struck with certain facts in the distribution of the inhabitants of South America, and in the geological relations of the present to the past inhabitants of that continent.\",\n",
       " 'These facts seemed to me to throw some light on the origin of species--that mystery of mysteries, as it has been called by one of our greatest philosophers.',\n",
       " 'On my return home, it occurred to me, in 1837, that something might perhaps be made out on this question by patiently accumulating and reflecting on all sorts of facts which could possibly have any bearing on it.',\n",
       " \"After five years' work I allowed myself to speculate on the subject, and drew up some short notes; these I enlarged in 1844 into a sketch of the conclusions, which then seemed to me probable: from that period to the present day I have steadily pursued the same object.\",\n",
       " 'I hope that I may be excused for entering on these personal details, as I give them to show that I have not been hasty in coming to a decision.']"
      ]
     },
     "execution_count": 6,
     "metadata": {},
     "output_type": "execute_result"
    }
   ],
   "source": [
    "sentences"
   ]
  },
  {
   "cell_type": "code",
   "execution_count": 7,
   "metadata": {
    "scrolled": true
   },
   "outputs": [
    {
     "data": {
      "text/plain": [
       "(spacy.tokens.span.Span,\n",
       " I hope that I may be excused for entering on these personal details, as I give them to show that I have not been hasty in coming to a decision.)"
      ]
     },
     "execution_count": 7,
     "metadata": {},
     "output_type": "execute_result"
    }
   ],
   "source": [
    "last_sentence = list(doc.sents)[-1]\n",
    "type(last_sentence), last_sentence"
   ]
  },
  {
   "cell_type": "code",
   "execution_count": 8,
   "metadata": {},
   "outputs": [
    {
     "name": "stdout",
     "output_type": "stream",
     "text": [
      "I hope that I may be excused for entering on these personal details, as I give them to show that I have not been hasty in coming to a decision.\n",
      "['PRON', 'VERB', 'SCONJ', 'PRON', 'AUX', 'AUX', 'VERB', 'ADP', 'VERB', 'ADP', 'DET', 'ADJ', 'NOUN', 'PUNCT', 'ADP', 'PRON', 'VERB', 'PRON', 'PART', 'VERB', 'SCONJ', 'PRON', 'AUX', 'PART', 'VERB', 'ADJ', 'ADP', 'VERB', 'ADP', 'DET', 'NOUN', 'PUNCT']\n"
     ]
    }
   ],
   "source": [
    "POS_list = []\n",
    "for token in last_sentence:\n",
    "    POS_list.append(token.pos_)\n",
    "    \n",
    "print(last_sentence)\n",
    "print(POS_list)"
   ]
  },
  {
   "cell_type": "code",
   "execution_count": 9,
   "metadata": {},
   "outputs": [
    {
     "data": {
      "text/plain": [
       "'I [MASK] that I may be [MASK] for [MASK] on these personal details , as I [MASK] them to [MASK] that I have not [MASK] hasty in [MASK] to a decision .'"
      ]
     },
     "execution_count": 9,
     "metadata": {},
     "output_type": "execute_result"
    }
   ],
   "source": [
    "masked_sentence = []\n",
    "for token in last_sentence:\n",
    "    if token.pos_ == \"VERB\":\n",
    "        masked_sentence.append('[MASK]')\n",
    "    else:\n",
    "        masked_sentence.append(token.text)\n",
    "        \n",
    "' '.join(masked_sentence)\n",
    "    "
   ]
  },
  {
   "cell_type": "code",
   "execution_count": 10,
   "metadata": {},
   "outputs": [],
   "source": [
    "# Alice in Wonderland\n",
    "\n",
    "text2 = \"\"\"\n",
    "Down, down, down. There was nothing else to do, so Alice soon began\n",
    "talking again. “Dinah’ll miss me very much to-night, I should think!”\n",
    "(Dinah was the cat.) “I hope they’ll remember her saucer of milk at\n",
    "tea-time. Dinah my dear! I wish you were down here with me! There are\n",
    "no mice in the air, I’m afraid, but you might catch a bat, and that’s\n",
    "very like a mouse, you know. But do cats eat bats, I wonder?” And here\n",
    "Alice began to get rather sleepy, and went on saying to herself, in a\n",
    "dreamy sort of way, “Do cats eat bats? Do cats eat bats?” and\n",
    "sometimes, “Do bats eat cats?” for, you see, as she couldn’t answer\n",
    "either question, it didn’t much matter which way she put it. She felt\n",
    "that she was dozing off, and had just begun to dream that she was\n",
    "walking hand in hand with Dinah, and saying to her very earnestly,\n",
    "“Now, Dinah, tell me the truth: did you ever eat a bat?” when suddenly,\n",
    "thump! thump! down she came upon a heap of sticks and dry leaves, and\n",
    "the fall was over.\n",
    "\"\"\".replace(\"\\n\", \" \")"
   ]
  },
  {
   "cell_type": "code",
   "execution_count": 11,
   "metadata": {
    "scrolled": true
   },
   "outputs": [
    {
     "name": "stdout",
     "output_type": "stream",
     "text": [
      " Down, down, down.\n",
      "There was nothing else to do, so Alice soon began talking again.\n",
      "“Dinah’ll miss me very much to-night, I should think!”\n",
      "(Dinah was the cat.)\n",
      "“I hope they’ll remember her saucer of milk at tea-time.\n",
      "Dinah my dear!\n",
      "I wish you were down here with me!\n",
      "There are no mice in the air, I’m afraid, but you might catch a bat, and that’s very like a mouse, you know.\n",
      "But do cats eat bats, I wonder?”\n",
      "And here Alice began to get rather sleepy, and went on saying to herself, in a dreamy sort of way, “Do cats eat bats?\n",
      "Do cats eat bats?” and sometimes, “Do bats eat cats?”\n",
      "for, you see, as she couldn’t answer either question, it didn’t much matter which way she put it.\n",
      "She felt that she was dozing off, and had just begun to dream that she was walking hand in hand with Dinah, and saying to her very earnestly, “Now, Dinah, tell me the truth: did you ever eat a bat?” when suddenly, thump!\n",
      "thump!\n",
      "down she came upon a heap of sticks and dry leaves, and the fall was over.\n"
     ]
    }
   ],
   "source": [
    "doc = nlp(text2)\n",
    "assert doc.has_annotation(\"SENT_START\")\n",
    "sentences2 = []\n",
    "for sent in doc.sents:\n",
    "    print(sent.text)\n",
    "    sentences2.append(sent.text)"
   ]
  },
  {
   "cell_type": "code",
   "execution_count": 12,
   "metadata": {},
   "outputs": [
    {
     "data": {
      "text/plain": [
       "[' Down, down, down.',\n",
       " 'There was nothing else to do, so Alice soon began talking again.',\n",
       " '“Dinah’ll miss me very much to-night, I should think!”',\n",
       " '(Dinah was the cat.)',\n",
       " '“I hope they’ll remember her saucer of milk at tea-time.',\n",
       " 'Dinah my dear!',\n",
       " 'I wish you were down here with me!',\n",
       " 'There are no mice in the air, I’m afraid, but you might catch a bat, and that’s very like a mouse, you know.',\n",
       " 'But do cats eat bats, I wonder?”',\n",
       " 'And here Alice began to get rather sleepy, and went on saying to herself, in a dreamy sort of way, “Do cats eat bats?',\n",
       " 'Do cats eat bats?” and sometimes, “Do bats eat cats?”',\n",
       " 'for, you see, as she couldn’t answer either question, it didn’t much matter which way she put it.',\n",
       " 'She felt that she was dozing off, and had just begun to dream that she was walking hand in hand with Dinah, and saying to her very earnestly, “Now, Dinah, tell me the truth: did you ever eat a bat?” when suddenly, thump!',\n",
       " 'thump!',\n",
       " 'down she came upon a heap of sticks and dry leaves, and the fall was over.']"
      ]
     },
     "execution_count": 12,
     "metadata": {},
     "output_type": "execute_result"
    }
   ],
   "source": [
    "sentences2"
   ]
  },
  {
   "cell_type": "code",
   "execution_count": null,
   "metadata": {},
   "outputs": [],
   "source": []
  },
  {
   "cell_type": "code",
   "execution_count": null,
   "metadata": {
    "scrolled": true
   },
   "outputs": [],
   "source": []
  },
  {
   "cell_type": "code",
   "execution_count": null,
   "metadata": {},
   "outputs": [],
   "source": []
  }
 ],
 "metadata": {
  "kernelspec": {
   "display_name": "Python 3",
   "language": "python",
   "name": "python3"
  },
  "language_info": {
   "codemirror_mode": {
    "name": "ipython",
    "version": 3
   },
   "file_extension": ".py",
   "mimetype": "text/x-python",
   "name": "python",
   "nbconvert_exporter": "python",
   "pygments_lexer": "ipython3",
   "version": "3.8.3"
  }
 },
 "nbformat": 4,
 "nbformat_minor": 4
}
