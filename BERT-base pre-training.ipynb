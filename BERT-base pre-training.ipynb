{
 "cells": [
  {
   "cell_type": "code",
   "execution_count": 1,
   "metadata": {},
   "outputs": [],
   "source": [
    "from transformers import BertModel, BertConfig\n",
    "from transformers import BertForMaskedLM\n",
    "from transformers import BertTokenizer\n",
    "from transformers import AdamW\n",
    "from transformers import Trainer, TrainingArguments\n",
    "\n",
    "import torch\n",
    "import numpy as np\n",
    "import spacy\n",
    "import re\n",
    "\n",
    "from datetime import datetime"
   ]
  },
  {
   "cell_type": "code",
   "execution_count": 2,
   "metadata": {},
   "outputs": [],
   "source": [
    "# pos_list = ['ADJ', 'ADP', 'ADV', 'AUX', 'CCONJ', 'DET', 'INTJ', 'NOUN', 'NUM', 'PART', 'PRON', 'PROPN', 'PUNCT', 'SCONJ', 'SYM', 'VERB', 'X']\n",
    "# ner_list = ['PERSON', 'NORP', 'FAC', 'ORG', 'GPE', 'LOC', 'PRODUCT', 'EVENT', 'WORK_OF_ART', 'LAW', 'LANGUAGE', 'DATE', 'TIME', 'PERCENT', 'MONEY', 'QUANTITY', 'ORDINAL', 'CARDINAL']"
   ]
  },
  {
   "cell_type": "code",
   "execution_count": 3,
   "metadata": {},
   "outputs": [],
   "source": [
    "sentences = [\"When on board H.M.S. 'Beagle,' as naturalist, I was much struck with certain facts in the distribution of the inhabitants of South America, and in the geological relations of the present to the past inhabitants of that continent.\",\n",
    " 'These facts seemed to me to throw some light on the origin of species--that mystery of mysteries, as it has been called by one of our greatest philosophers.',\n",
    " 'On my return home, it occurred to me, in 1837, that something might perhaps be made out on this question by patiently accumulating and reflecting on all sorts of facts which could possibly have any bearing on it.',\n",
    " \"After five years' work I allowed myself to speculate on the subject, and drew up some short notes; these I enlarged in 1844 into a sketch of the conclusions, which then seemed to me probable: from that period to the present day I have steadily pursued the same object.\",\n",
    " 'I hope that I may be excused for entering on these personal details, as I give them to show that I have not been hasty in coming to a decision.']"
   ]
  },
  {
   "cell_type": "code",
   "execution_count": 4,
   "metadata": {},
   "outputs": [],
   "source": [
    "tokenizer = BertTokenizer.from_pretrained('bert-base-uncased')\n",
    "nlp = spacy.load(\"en_core_web_sm\")"
   ]
  },
  {
   "cell_type": "code",
   "execution_count": 5,
   "metadata": {},
   "outputs": [
    {
     "data": {
      "text/plain": [
       "512"
      ]
     },
     "execution_count": 5,
     "metadata": {},
     "output_type": "execute_result"
    }
   ],
   "source": [
    "tokenizer.model_max_length"
   ]
  },
  {
   "cell_type": "code",
   "execution_count": 6,
   "metadata": {},
   "outputs": [],
   "source": [
    "def whole_word_MO_tokenization_and_masking(tokenizer, nlp_model, sequence: str):\n",
    "        \"\"\"\n",
    "        posoi: Part-Of-Speech of interest\n",
    "        \n",
    "        Performs whole-word-masking based on selected posoi.\n",
    "        \n",
    "        POS possibilities:['ADJ', 'ADP', 'ADV', 'AUX', 'CCONJ', 'DET', 'INTJ', \n",
    "                            'NOUN', 'NUM', 'PART', 'PRON', 'PROPN', 'PUNCT', 'SCONJ', 'SYM', 'VERB', 'X']\n",
    "                             \n",
    "        TODO: What if no tokens are masked?\n",
    "        \n",
    "        \"\"\"\n",
    "        print('loading:', datetime.now().time())\n",
    "        spacy_sentence = nlp_model(sequence, disable=[\"parser\"])\n",
    "        \n",
    "        POS_list = ['ADJ', 'ADP', 'ADV', 'AUX', 'CCONJ', 'DET', 'INTJ', \n",
    "                            'NOUN', 'NUM', 'PART', 'PRON', 'PROPN', 'PUNCT', 'SCONJ', 'SYM', 'VERB', 'X']\n",
    "        NER_list = ['PERSON', 'NORP', 'FAC', 'ORG', 'GPE', 'LOC', 'PRODUCT', 'EVENT', 'WORK_OF_ART', \n",
    "                    'LAW', 'LANGUAGE', 'DATE', 'TIME', 'PERCENT', 'MONEY', 'QUANTITY', 'ORDINAL', 'CARDINAL']\n",
    "        NER_pairs = ['']\n",
    "        \n",
    "        input_ids = tokenizer.encode(sequence, add_special_tokens=False)\n",
    "        input_tokens = tokenizer.convert_ids_to_tokens(input_ids)\n",
    "        print(sequence)\n",
    "        print(input_tokens)\n",
    "        sequence_pos_list = [token.pos_ for token in spacy_sentence]\n",
    "        sequence_pos_frequency = {pos: sequence_pos_list.count(pos) for pos in sequence_pos_list}\n",
    "        \n",
    "        modified_input_list = []\n",
    "        \n",
    "        #POS-masking\n",
    "        print('pos-start:', datetime.now().time())\n",
    "        for posoi in sequence_pos_frequency.keys():\n",
    "            posoi_vocab = [token.text for token in spacy_sentence if token.pos_ == posoi]\n",
    "            \n",
    "            mask_indices = []\n",
    "            composite_word_indices = []\n",
    "            composite_word_tokens = []\n",
    "            for (i, token) in enumerate(input_tokens):\n",
    "                if token == \"[CLS]\" or token == \"[SEP]\":\n",
    "                    continue\n",
    "                elif token.startswith(\"##\"):\n",
    "                    composite_word_indices.append(i)\n",
    "                    composite_word_tokens.append(token)\n",
    "                    if \"\".join([x.strip(\"##\") for x in composite_word_tokens]) in posoi_vocab:\n",
    "                        mask_indices = mask_indices + composite_word_indices\n",
    "\n",
    "                elif token in posoi_vocab:\n",
    "                    mask_indices.append(i)\n",
    "                else:\n",
    "                    composite_word_indices = [i]\n",
    "                    composite_word_tokens = [token]\n",
    "\n",
    "            mask_labels = [1 if i in mask_indices else 0 for i in range(len(input_tokens))]\n",
    "            masked_tokens = [x if mask_labels[i] == 0 else 103 for i,x in enumerate(input_ids)]\n",
    "            masked_input = tokenizer.decode(masked_tokens)         \n",
    "            modified_input_list.append(masked_input)\n",
    "            \n",
    "            print(posoi, masked_input)\n",
    "        \n",
    "        print('lemma-start:', datetime.now().time())\n",
    "        #POS-based lemmatization\n",
    "        replacement_tuples = [(token.text, token.lemma_) for token in spacy_sentence if token.text.lower() != token.lemma_]\n",
    "        #print(replacement_tuples)\n",
    "        pos_replaced_sentence = sequence\n",
    "        for replacement in replacement_tuples:\n",
    "            pos_replaced_sentence = re.sub(r'\\b' + replacement[0] + r'\\b', replacement[1], pos_replaced_sentence)\n",
    "\n",
    "        pos_replaced_sentence = pos_replaced_sentence.replace(\"  \", \" \")\n",
    "        print('Lemma', pos_replaced_sentence)\n",
    "        modified_input_list.append(pos_replaced_sentence)\n",
    "        \n",
    "        #NER-based swapping of time-place (if present)\n",
    "        print('ner-start:', datetime.now().time())\n",
    "        ner_swapped_sentence = spacy_sentence.text\n",
    "        for ent in spacy_sentence.ents:\n",
    "            if ent.label_ == 'TIME':\n",
    "                time_substring = ner_swapped_sentence[ent.start_char:ent.end_char].split(\" \")\n",
    "                time_substring.reverse()\n",
    "                ner_swapped_sentence = ner_swapped_sentence.replace(ner_swapped_sentence[ent.start_char:ent.end_char], \" \".join(time_substring))\n",
    "        print('NER', ner_swapped_sentence)\n",
    "        modified_input_list.append(ner_swapped_sentence)\n",
    "        \n",
    "        \n",
    "        #TODO future ideas\n",
    "        #\n",
    "        #\n",
    "        \n",
    "    \n",
    "        #actually tokenize input\n",
    "        inputs = tokenizer(modified_input_list, return_tensors=\"pt\", padding=True)\n",
    "\n",
    "        inputs['labels'] = tokenizer([sequence for i in range(0,inputs['input_ids'].shape[0])], \n",
    "                                     return_attention_mask=False, \n",
    "                                     return_token_type_ids=False,\n",
    "                                     return_tensors='pt', padding=True)['input_ids']\n",
    "        \n",
    "        return inputs"
   ]
  },
  {
   "cell_type": "code",
   "execution_count": 7,
   "metadata": {},
   "outputs": [
    {
     "name": "stdout",
     "output_type": "stream",
     "text": [
      "12:17:49.368637\n",
      "loading: 12:17:49.369633\n",
      "Anne went to the Albert Heijn at 5 o'clock to buy some milk for me.\n",
      "['anne', 'went', 'to', 'the', 'albert', 'he', '##ij', '##n', 'at', '5', 'o', \"'\", 'clock', 'to', 'buy', 'some', 'milk', 'for', 'me', '.']\n",
      "pos-start: 12:17:49.382632\n",
      "PROPN anne went to the albert heijn at 5 o'clock to buy some milk for me.\n",
      "VERB anne [MASK] to the albert heijn at 5 o'clock to [MASK] some milk for me.\n",
      "ADP anne went [MASK] the albert heijn [MASK] 5 o'clock [MASK] buy some milk [MASK] me.\n",
      "DET anne went to [MASK] albert heijn at 5 o'clock to buy [MASK] milk for me.\n",
      "NUM anne went to the albert heijn at [MASK] o'clock to buy some milk for me.\n",
      "NOUN anne went to the albert heijn at 5 o'clock to buy some [MASK] for me.\n",
      "PART anne went [MASK] the albert heijn at 5 o'clock [MASK] buy some milk for me.\n",
      "PRON anne went to the albert heijn at 5 o'clock to buy some milk for [MASK].\n",
      "PUNCT anne went to the albert heijn at 5 o'clock to buy some milk for me [MASK]\n",
      "lemma-start: 12:17:49.383624\n",
      "Lemma Anne go to the Albert Heijn at 5 o'clock to buy some milk for I.\n",
      "ner-start: 12:17:49.383624\n",
      "NER Anne went to the Albert Heijn at o'clock 5 to buy some milk for me.\n",
      "12:17:49.394579\n"
     ]
    }
   ],
   "source": [
    "print(datetime.now().time())\n",
    "test_sentence = \"Anne went to the Albert Heijn at 5 o'clock to buy some milk for me.\"\n",
    "example_sentence_inputs = whole_word_MO_tokenization_and_masking(tokenizer=tokenizer, nlp_model=nlp, sequence=test_sentence)\n",
    "print(datetime.now().time())"
   ]
  },
  {
   "cell_type": "code",
   "execution_count": 8,
   "metadata": {},
   "outputs": [
    {
     "data": {
      "text/plain": [
       "{'input_ids': tensor([[  101,  4776,  2253,  2000,  1996,  4789,  2002, 28418,  2078,  2012,\n",
       "          1019,  1051,  1005,  5119,  2000,  4965,  2070,  6501,  2005,  2033,\n",
       "          1012,   102],\n",
       "        [  101,  4776,   103,  2000,  1996,  4789,  2002, 28418,  2078,  2012,\n",
       "          1019,  1051,  1005,  5119,  2000,   103,  2070,  6501,  2005,  2033,\n",
       "          1012,   102],\n",
       "        [  101,  4776,  2253,   103,  1996,  4789,  2002, 28418,  2078,   103,\n",
       "          1019,  1051,  1005,  5119,   103,  4965,  2070,  6501,   103,  2033,\n",
       "          1012,   102],\n",
       "        [  101,  4776,  2253,  2000,   103,  4789,  2002, 28418,  2078,  2012,\n",
       "          1019,  1051,  1005,  5119,  2000,  4965,   103,  6501,  2005,  2033,\n",
       "          1012,   102],\n",
       "        [  101,  4776,  2253,  2000,  1996,  4789,  2002, 28418,  2078,  2012,\n",
       "           103,  1051,  1005,  5119,  2000,  4965,  2070,  6501,  2005,  2033,\n",
       "          1012,   102],\n",
       "        [  101,  4776,  2253,  2000,  1996,  4789,  2002, 28418,  2078,  2012,\n",
       "          1019,  1051,  1005,  5119,  2000,  4965,  2070,   103,  2005,  2033,\n",
       "          1012,   102],\n",
       "        [  101,  4776,  2253,   103,  1996,  4789,  2002, 28418,  2078,  2012,\n",
       "          1019,  1051,  1005,  5119,   103,  4965,  2070,  6501,  2005,  2033,\n",
       "          1012,   102],\n",
       "        [  101,  4776,  2253,  2000,  1996,  4789,  2002, 28418,  2078,  2012,\n",
       "          1019,  1051,  1005,  5119,  2000,  4965,  2070,  6501,  2005,   103,\n",
       "          1012,   102],\n",
       "        [  101,  4776,  2253,  2000,  1996,  4789,  2002, 28418,  2078,  2012,\n",
       "          1019,  1051,  1005,  5119,  2000,  4965,  2070,  6501,  2005,  2033,\n",
       "           103,   102],\n",
       "        [  101,  4776,  2175,  2000,  1996,  4789,  2002, 28418,  2078,  2012,\n",
       "          1019,  1051,  1005,  5119,  2000,  4965,  2070,  6501,  2005,  1045,\n",
       "          1012,   102],\n",
       "        [  101,  4776,  2253,  2000,  1996,  4789,  2002, 28418,  2078,  2012,\n",
       "          1051,  1005,  5119,  1019,  2000,  4965,  2070,  6501,  2005,  2033,\n",
       "          1012,   102]]), 'token_type_ids': tensor([[0, 0, 0, 0, 0, 0, 0, 0, 0, 0, 0, 0, 0, 0, 0, 0, 0, 0, 0, 0, 0, 0],\n",
       "        [0, 0, 0, 0, 0, 0, 0, 0, 0, 0, 0, 0, 0, 0, 0, 0, 0, 0, 0, 0, 0, 0],\n",
       "        [0, 0, 0, 0, 0, 0, 0, 0, 0, 0, 0, 0, 0, 0, 0, 0, 0, 0, 0, 0, 0, 0],\n",
       "        [0, 0, 0, 0, 0, 0, 0, 0, 0, 0, 0, 0, 0, 0, 0, 0, 0, 0, 0, 0, 0, 0],\n",
       "        [0, 0, 0, 0, 0, 0, 0, 0, 0, 0, 0, 0, 0, 0, 0, 0, 0, 0, 0, 0, 0, 0],\n",
       "        [0, 0, 0, 0, 0, 0, 0, 0, 0, 0, 0, 0, 0, 0, 0, 0, 0, 0, 0, 0, 0, 0],\n",
       "        [0, 0, 0, 0, 0, 0, 0, 0, 0, 0, 0, 0, 0, 0, 0, 0, 0, 0, 0, 0, 0, 0],\n",
       "        [0, 0, 0, 0, 0, 0, 0, 0, 0, 0, 0, 0, 0, 0, 0, 0, 0, 0, 0, 0, 0, 0],\n",
       "        [0, 0, 0, 0, 0, 0, 0, 0, 0, 0, 0, 0, 0, 0, 0, 0, 0, 0, 0, 0, 0, 0],\n",
       "        [0, 0, 0, 0, 0, 0, 0, 0, 0, 0, 0, 0, 0, 0, 0, 0, 0, 0, 0, 0, 0, 0],\n",
       "        [0, 0, 0, 0, 0, 0, 0, 0, 0, 0, 0, 0, 0, 0, 0, 0, 0, 0, 0, 0, 0, 0]]), 'attention_mask': tensor([[1, 1, 1, 1, 1, 1, 1, 1, 1, 1, 1, 1, 1, 1, 1, 1, 1, 1, 1, 1, 1, 1],\n",
       "        [1, 1, 1, 1, 1, 1, 1, 1, 1, 1, 1, 1, 1, 1, 1, 1, 1, 1, 1, 1, 1, 1],\n",
       "        [1, 1, 1, 1, 1, 1, 1, 1, 1, 1, 1, 1, 1, 1, 1, 1, 1, 1, 1, 1, 1, 1],\n",
       "        [1, 1, 1, 1, 1, 1, 1, 1, 1, 1, 1, 1, 1, 1, 1, 1, 1, 1, 1, 1, 1, 1],\n",
       "        [1, 1, 1, 1, 1, 1, 1, 1, 1, 1, 1, 1, 1, 1, 1, 1, 1, 1, 1, 1, 1, 1],\n",
       "        [1, 1, 1, 1, 1, 1, 1, 1, 1, 1, 1, 1, 1, 1, 1, 1, 1, 1, 1, 1, 1, 1],\n",
       "        [1, 1, 1, 1, 1, 1, 1, 1, 1, 1, 1, 1, 1, 1, 1, 1, 1, 1, 1, 1, 1, 1],\n",
       "        [1, 1, 1, 1, 1, 1, 1, 1, 1, 1, 1, 1, 1, 1, 1, 1, 1, 1, 1, 1, 1, 1],\n",
       "        [1, 1, 1, 1, 1, 1, 1, 1, 1, 1, 1, 1, 1, 1, 1, 1, 1, 1, 1, 1, 1, 1],\n",
       "        [1, 1, 1, 1, 1, 1, 1, 1, 1, 1, 1, 1, 1, 1, 1, 1, 1, 1, 1, 1, 1, 1],\n",
       "        [1, 1, 1, 1, 1, 1, 1, 1, 1, 1, 1, 1, 1, 1, 1, 1, 1, 1, 1, 1, 1, 1]]), 'labels': tensor([[  101,  4776,  2253,  2000,  1996,  4789,  2002, 28418,  2078,  2012,\n",
       "          1019,  1051,  1005,  5119,  2000,  4965,  2070,  6501,  2005,  2033,\n",
       "          1012,   102],\n",
       "        [  101,  4776,  2253,  2000,  1996,  4789,  2002, 28418,  2078,  2012,\n",
       "          1019,  1051,  1005,  5119,  2000,  4965,  2070,  6501,  2005,  2033,\n",
       "          1012,   102],\n",
       "        [  101,  4776,  2253,  2000,  1996,  4789,  2002, 28418,  2078,  2012,\n",
       "          1019,  1051,  1005,  5119,  2000,  4965,  2070,  6501,  2005,  2033,\n",
       "          1012,   102],\n",
       "        [  101,  4776,  2253,  2000,  1996,  4789,  2002, 28418,  2078,  2012,\n",
       "          1019,  1051,  1005,  5119,  2000,  4965,  2070,  6501,  2005,  2033,\n",
       "          1012,   102],\n",
       "        [  101,  4776,  2253,  2000,  1996,  4789,  2002, 28418,  2078,  2012,\n",
       "          1019,  1051,  1005,  5119,  2000,  4965,  2070,  6501,  2005,  2033,\n",
       "          1012,   102],\n",
       "        [  101,  4776,  2253,  2000,  1996,  4789,  2002, 28418,  2078,  2012,\n",
       "          1019,  1051,  1005,  5119,  2000,  4965,  2070,  6501,  2005,  2033,\n",
       "          1012,   102],\n",
       "        [  101,  4776,  2253,  2000,  1996,  4789,  2002, 28418,  2078,  2012,\n",
       "          1019,  1051,  1005,  5119,  2000,  4965,  2070,  6501,  2005,  2033,\n",
       "          1012,   102],\n",
       "        [  101,  4776,  2253,  2000,  1996,  4789,  2002, 28418,  2078,  2012,\n",
       "          1019,  1051,  1005,  5119,  2000,  4965,  2070,  6501,  2005,  2033,\n",
       "          1012,   102],\n",
       "        [  101,  4776,  2253,  2000,  1996,  4789,  2002, 28418,  2078,  2012,\n",
       "          1019,  1051,  1005,  5119,  2000,  4965,  2070,  6501,  2005,  2033,\n",
       "          1012,   102],\n",
       "        [  101,  4776,  2253,  2000,  1996,  4789,  2002, 28418,  2078,  2012,\n",
       "          1019,  1051,  1005,  5119,  2000,  4965,  2070,  6501,  2005,  2033,\n",
       "          1012,   102],\n",
       "        [  101,  4776,  2253,  2000,  1996,  4789,  2002, 28418,  2078,  2012,\n",
       "          1019,  1051,  1005,  5119,  2000,  4965,  2070,  6501,  2005,  2033,\n",
       "          1012,   102]])}"
      ]
     },
     "execution_count": 8,
     "metadata": {},
     "output_type": "execute_result"
    }
   ],
   "source": [
    "example_sentence_inputs"
   ]
  },
  {
   "cell_type": "code",
   "execution_count": 9,
   "metadata": {
    "scrolled": false
   },
   "outputs": [
    {
     "data": {
      "text/plain": [
       "tensor([[  101,  4776,  2253,  2000,  1996,  4789,  2002, 28418,  2078,  2012,\n",
       "          1019,  1051,  1005,  5119,  2000,  4965,  2070,  6501,  2005,  2033,\n",
       "          1012,   102],\n",
       "        [  101,  4776,   103,  2000,  1996,  4789,  2002, 28418,  2078,  2012,\n",
       "          1019,  1051,  1005,  5119,  2000,   103,  2070,  6501,  2005,  2033,\n",
       "          1012,   102],\n",
       "        [  101,  4776,  2253,   103,  1996,  4789,  2002, 28418,  2078,   103,\n",
       "          1019,  1051,  1005,  5119,   103,  4965,  2070,  6501,   103,  2033,\n",
       "          1012,   102],\n",
       "        [  101,  4776,  2253,  2000,   103,  4789,  2002, 28418,  2078,  2012,\n",
       "          1019,  1051,  1005,  5119,  2000,  4965,   103,  6501,  2005,  2033,\n",
       "          1012,   102],\n",
       "        [  101,  4776,  2253,  2000,  1996,  4789,  2002, 28418,  2078,  2012,\n",
       "           103,  1051,  1005,  5119,  2000,  4965,  2070,  6501,  2005,  2033,\n",
       "          1012,   102],\n",
       "        [  101,  4776,  2253,  2000,  1996,  4789,  2002, 28418,  2078,  2012,\n",
       "          1019,  1051,  1005,  5119,  2000,  4965,  2070,   103,  2005,  2033,\n",
       "          1012,   102],\n",
       "        [  101,  4776,  2253,   103,  1996,  4789,  2002, 28418,  2078,  2012,\n",
       "          1019,  1051,  1005,  5119,   103,  4965,  2070,  6501,  2005,  2033,\n",
       "          1012,   102],\n",
       "        [  101,  4776,  2253,  2000,  1996,  4789,  2002, 28418,  2078,  2012,\n",
       "          1019,  1051,  1005,  5119,  2000,  4965,  2070,  6501,  2005,   103,\n",
       "          1012,   102],\n",
       "        [  101,  4776,  2253,  2000,  1996,  4789,  2002, 28418,  2078,  2012,\n",
       "          1019,  1051,  1005,  5119,  2000,  4965,  2070,  6501,  2005,  2033,\n",
       "           103,   102],\n",
       "        [  101,  4776,  2175,  2000,  1996,  4789,  2002, 28418,  2078,  2012,\n",
       "          1019,  1051,  1005,  5119,  2000,  4965,  2070,  6501,  2005,  1045,\n",
       "          1012,   102],\n",
       "        [  101,  4776,  2253,  2000,  1996,  4789,  2002, 28418,  2078,  2012,\n",
       "          1051,  1005,  5119,  1019,  2000,  4965,  2070,  6501,  2005,  2033,\n",
       "          1012,   102]])"
      ]
     },
     "execution_count": 9,
     "metadata": {},
     "output_type": "execute_result"
    }
   ],
   "source": [
    "example_sentence_inputs['input_ids']"
   ]
  },
  {
   "cell_type": "code",
   "execution_count": 10,
   "metadata": {},
   "outputs": [],
   "source": [
    "text= 'On their very first meeting, Gilbert had not been pleasantly impressed with Hardy. But he soon saw that the man had a certain rugged strength, and there was no doubt he had suffered from the depredations of Mexico\\'s casual visitors, and was ready to protect not only his own interests but those of any newcomers. He seemed to have the spirit of fair-mindedness; and he believed firmly in the possibilities of this magic land, particularly for young men. \"It\\'s God\\'s country,\" he told Gilbert on more than one occasion. \"Get into the soil all you can. Dig--and dig deep.\"'"
   ]
  },
  {
   "cell_type": "code",
   "execution_count": 11,
   "metadata": {},
   "outputs": [
    {
     "name": "stdout",
     "output_type": "stream",
     "text": [
      "loading: 12:17:49.454407\n",
      "On their very first meeting, Gilbert had not been pleasantly impressed with Hardy. But he soon saw that the man had a certain rugged strength, and there was no doubt he had suffered from the depredations of Mexico's casual visitors, and was ready to protect not only his own interests but those of any newcomers. He seemed to have the spirit of fair-mindedness; and he believed firmly in the possibilities of this magic land, particularly for young men. \"It's God's country,\" he told Gilbert on more than one occasion. \"Get into the soil all you can. Dig--and dig deep.\"\n",
      "['on', 'their', 'very', 'first', 'meeting', ',', 'gilbert', 'had', 'not', 'been', 'pleasantly', 'impressed', 'with', 'hardy', '.', 'but', 'he', 'soon', 'saw', 'that', 'the', 'man', 'had', 'a', 'certain', 'rugged', 'strength', ',', 'and', 'there', 'was', 'no', 'doubt', 'he', 'had', 'suffered', 'from', 'the', 'de', '##pre', '##dation', '##s', 'of', 'mexico', \"'\", 's', 'casual', 'visitors', ',', 'and', 'was', 'ready', 'to', 'protect', 'not', 'only', 'his', 'own', 'interests', 'but', 'those', 'of', 'any', 'newcomers', '.', 'he', 'seemed', 'to', 'have', 'the', 'spirit', 'of', 'fair', '-', 'minded', '##ness', ';', 'and', 'he', 'believed', 'firmly', 'in', 'the', 'possibilities', 'of', 'this', 'magic', 'land', ',', 'particularly', 'for', 'young', 'men', '.', '\"', 'it', \"'\", 's', 'god', \"'\", 's', 'country', ',', '\"', 'he', 'told', 'gilbert', 'on', 'more', 'than', 'one', 'occasion', '.', '\"', 'get', 'into', 'the', 'soil', 'all', 'you', 'can', '.', 'dig', '-', '-', 'and', 'dig', 'deep', '.', '\"']\n",
      "pos-start: 12:17:49.506267\n",
      "ADP [MASK] their very first meeting, gilbert had not been pleasantly impressed [MASK] hardy. but he soon saw that the man had a certain rugged strength, and there was no doubt he had suffered [MASK] the depredations [MASK] mexico's casual visitors, and was ready to protect not only his own interests but those [MASK] any newcomers. he seemed to have the spirit [MASK] fair - mindedness ; and he believed firmly [MASK] the possibilities [MASK] this magic land, particularly [MASK] young men. \" it's god's country, \" he told gilbert [MASK] more than one occasion. \" get [MASK] the soil all you can. dig - - and dig deep. \"\n",
      "PRON on [MASK] very first meeting, gilbert had not been pleasantly impressed with hardy. but [MASK] soon saw that the man had a certain rugged strength, and [MASK] was no doubt [MASK] had suffered from the depredations of mexico's casual visitors, and was ready to protect not only [MASK] own interests but those of any newcomers. [MASK] seemed to have the spirit of fair - mindedness ; and [MASK] believed firmly in the possibilities of this magic land, particularly for young men. \" it's god's country, \" [MASK] told gilbert on more than one occasion. \" get into the soil all [MASK] can. dig - - and dig deep. \"\n",
      "ADV on their [MASK] first meeting, gilbert had not been [MASK] impressed with hardy. but he [MASK] saw that the man had a certain rugged strength, and there was no doubt he had suffered from the depredations of mexico's casual visitors, and was ready to protect not [MASK] his own interests but those of any newcomers. he seemed to have the spirit of fair - mindedness ; and he believed [MASK] in the possibilities of this magic land, [MASK] for young men. \" it's god's country, \" he told gilbert on more than one occasion. \" get into the soil all you can. dig - - and dig deep. \"\n",
      "ADJ on their very [MASK] meeting, gilbert had not been pleasantly [MASK] with hardy. but he soon saw that the man had a [MASK] [MASK] strength, and there was no doubt he had suffered from the depredations of mexico's [MASK] visitors, and was [MASK] to protect not only his [MASK] interests but those of any newcomers. he seemed to have the spirit of fair - mindedness ; and he believed firmly in the possibilities of this [MASK] land, particularly for [MASK] men. \" it's god's country, \" he told gilbert on [MASK] than one occasion. \" get into the soil all you can. dig - - and dig [MASK]. \"\n",
      "NOUN on their very first [MASK], gilbert had not been pleasantly impressed with hardy. but he soon saw that the [MASK] had a certain rugged [MASK], and there was no [MASK] he had suffered from the [MASK] [MASK] [MASK] [MASK] of mexico's casual [MASK], and was ready to protect not only his own [MASK] but those of any [MASK]. he seemed to have the [MASK] of [MASK] - [MASK] [MASK] ; and he believed firmly in the [MASK] of this magic [MASK], particularly for young [MASK]. \" it's god's [MASK], \" he told gilbert on more than one [MASK]. \" get into the [MASK] all you can. dig - - and dig deep. \"\n",
      "PUNCT on their very first meeting [MASK] gilbert had not been pleasantly impressed with hardy [MASK] but he soon saw that the man had a certain rugged strength [MASK] and there was no doubt he had suffered from the depredations of mexico's casual visitors [MASK] and was ready to protect not only his own interests but those of any newcomers [MASK] he seemed to have the spirit of fair [MASK] mindedness [MASK] and he believed firmly in the possibilities of this magic land [MASK] particularly for young men [MASK] [MASK] it's god's country [MASK] [MASK] he told gilbert on more than one occasion [MASK] [MASK] get into the soil all you can [MASK] dig [MASK] [MASK] and dig deep [MASK] [MASK]\n",
      "PROPN on their very first meeting, gilbert had not been pleasantly impressed with hardy. but he soon saw that the man had a certain rugged strength, and there was no doubt he had suffered from the depredations of mexico's casual visitors, and was ready to protect not only his own interests but those of any newcomers. he seemed to have the spirit of fair - mindedness ; and he believed firmly in the possibilities of this magic land, particularly for young men. \" it's god's country, \" he told gilbert on more than one occasion. \" get into the soil all you can. dig - - and dig deep. \"\n",
      "VERB on their very first meeting, gilbert [MASK] not [MASK] pleasantly impressed with hardy. but he soon [MASK] that the man [MASK] a certain rugged strength, and there [MASK] no doubt he [MASK] [MASK] from the depredations of mexico's casual visitors, and [MASK] ready to [MASK] not only his own interests but those of any newcomers. he [MASK] to [MASK] the spirit of fair - mindedness ; and he [MASK] firmly in the possibilities of this magic land, particularly for young men. \" it's god's country, \" he [MASK] gilbert on more than one occasion. \" get into the soil all you can. [MASK] - - and [MASK] deep. \"\n",
      "PART on their very first meeting, gilbert had [MASK] been pleasantly impressed with hardy. but he soon saw that the man had a certain rugged strength, and there was no doubt he had suffered from the depredations of mexico's casual visitors, and was ready [MASK] protect [MASK] only his own interests but those of any newcomers. he seemed [MASK] have the spirit of fair - mindedness ; and he believed firmly in the possibilities of this magic land, particularly for young men. \" it's god's country, \" he told gilbert on more than one occasion. \" get into the soil all you can. dig - - and dig deep. \"\n",
      "CCONJ on their very first meeting, gilbert had not been pleasantly impressed with hardy. [MASK] he soon saw that the man had a certain rugged strength, [MASK] there was no doubt he had suffered from the depredations of mexico's casual visitors, [MASK] was ready to protect not only his own interests [MASK] those of any newcomers. he seemed to have the spirit of fair - mindedness ; [MASK] he believed firmly in the possibilities of this magic land, particularly for young men. \" it's god's country, \" he told gilbert on more than one occasion. \" get into the soil all you can. dig - - [MASK] dig deep. \"\n",
      "SCONJ on their very first meeting, gilbert had not been pleasantly impressed with hardy. but he soon saw [MASK] the man had a certain rugged strength, and there was no doubt he had suffered from the depredations of mexico's casual visitors, and was ready to protect not only his own interests but those of any newcomers. he seemed to have the spirit of fair - mindedness ; and he believed firmly in the possibilities of this magic land, particularly for young men. \" it's god's country, \" he told gilbert on more [MASK] one occasion. \" get into the soil all you can. dig - - and dig deep. \"\n",
      "DET on their very first meeting, gilbert had not been pleasantly impressed with hardy. but he soon saw that [MASK] man had [MASK] certain rugged strength, and there was [MASK] doubt he had suffered from [MASK] depredations of mexico's casual visitors, and was ready to protect not only his own interests but [MASK] of [MASK] newcomers. he seemed to have [MASK] spirit of fair - mindedness ; and he believed firmly in [MASK] possibilities of [MASK] magic land, particularly for young men. \" it's god's country, \" he told gilbert on more than one occasion. \" get into [MASK] soil [MASK] you can. dig - - and dig deep. \"\n",
      "NUM on their very first meeting, gilbert had not been pleasantly impressed with hardy. but he soon saw that the man had a certain rugged strength, and there was no doubt he had suffered from the depredations of mexico's casual visitors, and was ready to protect not only his own interests but those of any newcomers. he seemed to have the spirit of fair - mindedness ; and he believed firmly in the possibilities of this magic land, particularly for young men. \" it's god's country, \" he told gilbert on more than [MASK] occasion. \" get into the soil all you can. dig - - and dig deep. \"\n",
      "AUX on their very first meeting, gilbert had not been pleasantly impressed with hardy. but he soon saw that the man had a certain rugged strength, and there was no doubt he had suffered from the depredations of mexico's casual visitors, and was ready to protect not only his own interests but those of any newcomers. he seemed to have the spirit of fair - mindedness ; and he believed firmly in the possibilities of this magic land, particularly for young men. \" it's god's country, \" he told gilbert on more than one occasion. \" get into the soil all you [MASK]. dig - - and dig deep. \"\n",
      "lemma-start: 12:17:49.512251\n",
      "Lemma On their very first meeting, Gilbert have not be pleasantly impressed with Hardy. But he soon see that the man have a certain rugged strength, and there be no doubt he have suffer from the depredation of Mexicobe casual visitor, and be ready to protect not only his own interest but those of any newcomer. He seem to have the spirit of fair-mindedness; and he believe firmly in the possibility of this magic land, particularly for young man. \"Itbe Godbe country,\" he tell Gilbert on more than one occasion. \"Get into the soil all you can. Dig--and dig deep.\"\n",
      "ner-start: 12:17:49.514245\n",
      "NER On their very first meeting, Gilbert had not been pleasantly impressed with Hardy. But he soon saw that the man had a certain rugged strength, and there was no doubt he had suffered from the depredations of Mexico's casual visitors, and was ready to protect not only his own interests but those of any newcomers. He seemed to have the spirit of fair-mindedness; and he believed firmly in the possibilities of this magic land, particularly for young men. \"It's God's country,\" he told Gilbert on more than one occasion. \"Get into the soil all you can. Dig--and dig deep.\"\n"
     ]
    },
    {
     "data": {
      "text/plain": [
       "{'input_ids': tensor([[ 101,  103, 2037,  ..., 1012, 1000,  102],\n",
       "        [ 101, 2006,  103,  ..., 1012, 1000,  102],\n",
       "        [ 101, 2006, 2037,  ..., 1012, 1000,  102],\n",
       "        ...,\n",
       "        [ 101, 2006, 2037,  ..., 1012, 1000,  102],\n",
       "        [ 101, 2006, 2037,  ...,    0,    0,    0],\n",
       "        [ 101, 2006, 2037,  ..., 1012, 1000,  102]]), 'token_type_ids': tensor([[0, 0, 0,  ..., 0, 0, 0],\n",
       "        [0, 0, 0,  ..., 0, 0, 0],\n",
       "        [0, 0, 0,  ..., 0, 0, 0],\n",
       "        ...,\n",
       "        [0, 0, 0,  ..., 0, 0, 0],\n",
       "        [0, 0, 0,  ..., 0, 0, 0],\n",
       "        [0, 0, 0,  ..., 0, 0, 0]]), 'attention_mask': tensor([[1, 1, 1,  ..., 1, 1, 1],\n",
       "        [1, 1, 1,  ..., 1, 1, 1],\n",
       "        [1, 1, 1,  ..., 1, 1, 1],\n",
       "        ...,\n",
       "        [1, 1, 1,  ..., 1, 1, 1],\n",
       "        [1, 1, 1,  ..., 0, 0, 0],\n",
       "        [1, 1, 1,  ..., 1, 1, 1]]), 'labels': tensor([[ 101, 2006, 2037,  ..., 1012, 1000,  102],\n",
       "        [ 101, 2006, 2037,  ..., 1012, 1000,  102],\n",
       "        [ 101, 2006, 2037,  ..., 1012, 1000,  102],\n",
       "        ...,\n",
       "        [ 101, 2006, 2037,  ..., 1012, 1000,  102],\n",
       "        [ 101, 2006, 2037,  ..., 1012, 1000,  102],\n",
       "        [ 101, 2006, 2037,  ..., 1012, 1000,  102]])}"
      ]
     },
     "execution_count": 11,
     "metadata": {},
     "output_type": "execute_result"
    }
   ],
   "source": [
    "whole_word_MO_tokenization_and_masking(tokenizer=tokenizer, nlp_model=nlp, sequence=text)"
   ]
  },
  {
   "cell_type": "code",
   "execution_count": 12,
   "metadata": {},
   "outputs": [
    {
     "name": "stdout",
     "output_type": "stream",
     "text": [
      "loading: 12:17:49.593037\n",
      "\"Sturgis telegraphed me that there was a big possibility of a new vein of oil down on the border,\" Pell was telling her. \"Some important men want to talk things over with me at Bisbee.I want to get started in a day or two.Don't take your maid.It's a rough country, but you'll be all right.Just old clothes.You can ride a lot, so bring your habit.I'll be busy most of the time; but I think you'll like the trip.Never been down that way, have you?\"\n",
      "['\"', 'stu', '##rg', '##is', 'telegraph', '##ed', 'me', 'that', 'there', 'was', 'a', 'big', 'possibility', 'of', 'a', 'new', 'vein', 'of', 'oil', 'down', 'on', 'the', 'border', ',', '\"', 'pe', '##ll', 'was', 'telling', 'her', '.', '\"', 'some', 'important', 'men', 'want', 'to', 'talk', 'things', 'over', 'with', 'me', 'at', 'bis', '##bee', '.', 'i', 'want', 'to', 'get', 'started', 'in', 'a', 'day', 'or', 'two', '.', 'don', \"'\", 't', 'take', 'your', 'maid', '.', 'it', \"'\", 's', 'a', 'rough', 'country', ',', 'but', 'you', \"'\", 'll', 'be', 'all', 'right', '.', 'just', 'old', 'clothes', '.', 'you', 'can', 'ride', 'a', 'lot', ',', 'so', 'bring', 'your', 'habit', '.', 'i', \"'\", 'll', 'be', 'busy', 'most', 'of', 'the', 'time', ';', 'but', 'i', 'think', 'you', \"'\", 'll', 'like', 'the', 'trip', '.', 'never', 'been', 'down', 'that', 'way', ',', 'have', 'you', '?', '\"']\n",
      "pos-start: 12:17:49.626977\n",
      "PUNCT [MASK] sturgis telegraphed me that there was a big possibility of a new vein of oil down on the border [MASK] [MASK] pell was telling her [MASK] [MASK] some important men want to talk things over with me at bisbee [MASK] i want to get started in a day or two [MASK] don't take your maid [MASK] it's a rough country [MASK] but you'll be all right [MASK] just old clothes [MASK] you can ride a lot [MASK] so bring your habit [MASK] i'll be busy most of the time [MASK] but i think you'll like the trip [MASK] never been down that way [MASK] have you [MASK] [MASK]\n",
      "PROPN \" sturgis telegraphed me that there was a big possibility of a new vein of oil down on the border, \" pell was telling her. \" some important men want to talk things over with me at bisbee. i want to get started in a day or two. don't take your maid. it's a rough country, but you'll be all right. just old clothes. you can ride a lot, so bring your habit. i'll be busy most of the time ; but i think you'll like the trip. never been down that way, have you? \"\n",
      "VERB \" sturgis [MASK] [MASK] me that there [MASK] a big possibility of a new vein of oil down on the border, \" pell [MASK] [MASK] her. \" some important men [MASK] to [MASK] things over with me at bisbee. i [MASK] to [MASK] [MASK] in a day or two. don't [MASK] your maid. it's a rough country, but you'll [MASK] all right. just old clothes. you can [MASK] a lot, so [MASK] your habit. i'll [MASK] busy most of the time ; but i [MASK] you'll [MASK] the trip. never [MASK] down that way, [MASK] you? \"\n",
      "PRON \" sturgis telegraphed [MASK] that [MASK] was a big possibility of a new vein of oil down on the border, \" pell was telling [MASK]. \" some important men want to talk things over with [MASK] at bisbee. i want to get started in a day or two. don't take [MASK] maid. it's a rough country, but [MASK]'ll be all right. just old clothes. [MASK] can ride a lot, so bring [MASK] habit. i'll be busy most of the time ; but i think [MASK]'ll like the trip. never been down that way, have [MASK]? \"\n",
      "SCONJ \" sturgis telegraphed me [MASK] there was a big possibility of a new vein of oil down on the border, \" pell was telling her. \" some important men want to talk things over with me at bisbee. i want to get started in a day or two. don't take your maid. it's a rough country, but you'll be all right. just old clothes. you can ride a lot, so bring your habit. i'll be busy most of the time ; but i think you'll like the trip. never been down [MASK] way, have you? \"\n",
      "DET \" sturgis telegraphed me [MASK] there was [MASK] big possibility of [MASK] new vein of oil down on [MASK] border, \" pell was telling her. \" some important men want to talk things over with me at bisbee. i want to get started in [MASK] day or two. don't take your maid. it's [MASK] rough country, but you'll be all right. just old clothes. you can ride [MASK] lot, so bring your habit. i'll be busy most of [MASK] time ; but i think you'll like [MASK] trip. never been down [MASK] way, have you? \"\n",
      "ADJ \" sturgis telegraphed me that there was a [MASK] possibility of a [MASK] vein of oil down on the border, \" pell was telling her. \" some [MASK] men want to talk things over with me at bisbee. i want to get started in a day or two. don't take your maid. it's a [MASK] country, but you'll be all [MASK]. just [MASK] clothes. you can ride a lot, so bring your habit. i'll be [MASK] [MASK] of the time ; but i think you'll like the trip. never been down that way, have you? \"\n",
      "NOUN \" sturgis telegraphed me that there was a big [MASK] of a new [MASK] of [MASK] down on the [MASK], \" pell was telling her. \" some important [MASK] want to talk [MASK] over with me at bisbee. i want to get started in a [MASK] or two. don't take your [MASK]. it's a rough [MASK], but you'll be all right. just old [MASK]. you can ride a [MASK], so bring your [MASK]. i'll be busy most of the [MASK] ; but i think you'll like the [MASK]. never been down that [MASK], have you? \"\n",
      "ADP \" sturgis telegraphed me that there was a big possibility [MASK] a new vein [MASK] oil [MASK] [MASK] the border, \" pell was telling her. \" some important men want to talk things [MASK] [MASK] me [MASK] bisbee. i want to get started [MASK] a day or two. don't take your maid. it's a rough country, but you'll be all right. just old clothes. you can ride a lot, so bring your habit. i'll be busy most [MASK] the time ; but i think you'll like the trip. never been [MASK] that way, have you? \"\n",
      "PART \" sturgis telegraphed me that there was a big possibility of a new vein of oil down on the border, \" pell was telling her. \" some important men want [MASK] talk things over with me at bisbee. i want [MASK] get started in a day or two. don't take your maid. it's a rough country, but you'll be all right. just old clothes. you can ride a lot, so bring your habit. i'll be busy most of the time ; but i think you'll like the trip. never been down that way, have you? \"\n",
      "CCONJ \" sturgis telegraphed me that there was a big possibility of a new vein of oil down on the border, \" pell was telling her. \" some important men want to talk things over with me at bisbee. i want to get started in a day [MASK] two. don't take your maid. it's a rough country, [MASK] you'll be all right. just old clothes. you can ride a lot, so bring your habit. i'll be busy most of the time ; [MASK] i think you'll like the trip. never been down that way, have you? \"\n",
      "NUM \" sturgis telegraphed me that there was a big possibility of a new vein of oil down on the border, \" pell was telling her. \" some important men want to talk things over with me at bisbee. i want to get started in a day or [MASK]. don't take your maid. it's a rough country, but you'll be all right. just old clothes. you can ride a lot, so bring your habit. i'll be busy most of the time ; but i think you'll like the trip. never been down that way, have you? \"\n",
      "INTJ \" sturgis telegraphed me that there was a big possibility of a new vein of oil down on the border, \" pell was telling her. \" some important men want to talk things over with me at bisbee. i want to get started in a day or two. don't take your maid. it's a rough country, but you'll be all right. just old clothes. you can ride a lot, so bring your habit. i'll be busy most of the time ; but i think you'll like the trip. never been down that way, have you? \"\n",
      "AUX \" sturgis telegraphed me that there was a big possibility of a new vein of oil down on the border, \" pell was telling her. \" some important men want to talk things over with me at bisbee. i want to get started in a day or two. don't take your maid. it's a rough country, but you'll be all right. just old clothes. you [MASK] ride a lot, so bring your habit. i'll be busy most of the time ; but i think you'll like the trip. never been down that way, have you? \"\n",
      "ADV \" sturgis telegraphed me that there was a big possibility of a new vein of oil [MASK] on the border, \" pell was telling her. \" some important men want to talk things over with me at bisbee. i want to get started in a day or two. don't take your maid. it's a rough country, but you'll be [MASK] right. just old clothes. you can ride a lot, [MASK] bring your habit. i'll be busy most of the time ; but i think you'll like the trip. never been [MASK] that way, have you? \"\n",
      "lemma-start: 12:17:49.631963\n",
      "Lemma \"Sturgis telegraph I that there be a big possibility of a new vein of oil down on the border,\" Pell be tell she. \"Some important man want to talk thing over with I at Bisbee.I want to get start in a day or two.Don't take your maid.Itbe a rough country, but you'll be all right.Just old clothe.You can ride a lot, so bring your habit.I'll be busy most of the time; but I think you'll like the trip.Never be down that way, have you?\"\n",
      "ner-start: 12:17:49.631963\n",
      "NER \"Sturgis telegraphed me that there was a big possibility of a new vein of oil down on the border,\" Pell was telling her. \"Some important men want to talk things over with me at Bisbee.I want to get started in a day or two.Don't take your maid.It's a rough country, but you'll be all right.Just old clothes.You can ride a lot, so bring your habit.I'll be busy most of the time; but I think you'll like the trip.Never been down that way, have you?\"\n"
     ]
    },
    {
     "data": {
      "text/plain": [
       "{'input_ids': tensor([[  101,   103, 24646,  ...,   103,   103,   102],\n",
       "        [  101,  1000, 24646,  ...,  1029,  1000,   102],\n",
       "        [  101,  1000, 24646,  ...,  1029,  1000,   102],\n",
       "        ...,\n",
       "        [  101,  1000, 24646,  ...,  1029,  1000,   102],\n",
       "        [  101,  1000, 24646,  ...,  1000,   102,     0],\n",
       "        [  101,  1000, 24646,  ...,  1029,  1000,   102]]), 'token_type_ids': tensor([[0, 0, 0,  ..., 0, 0, 0],\n",
       "        [0, 0, 0,  ..., 0, 0, 0],\n",
       "        [0, 0, 0,  ..., 0, 0, 0],\n",
       "        ...,\n",
       "        [0, 0, 0,  ..., 0, 0, 0],\n",
       "        [0, 0, 0,  ..., 0, 0, 0],\n",
       "        [0, 0, 0,  ..., 0, 0, 0]]), 'attention_mask': tensor([[1, 1, 1,  ..., 1, 1, 1],\n",
       "        [1, 1, 1,  ..., 1, 1, 1],\n",
       "        [1, 1, 1,  ..., 1, 1, 1],\n",
       "        ...,\n",
       "        [1, 1, 1,  ..., 1, 1, 1],\n",
       "        [1, 1, 1,  ..., 1, 1, 0],\n",
       "        [1, 1, 1,  ..., 1, 1, 1]]), 'labels': tensor([[  101,  1000, 24646,  ...,  1029,  1000,   102],\n",
       "        [  101,  1000, 24646,  ...,  1029,  1000,   102],\n",
       "        [  101,  1000, 24646,  ...,  1029,  1000,   102],\n",
       "        ...,\n",
       "        [  101,  1000, 24646,  ...,  1029,  1000,   102],\n",
       "        [  101,  1000, 24646,  ...,  1029,  1000,   102],\n",
       "        [  101,  1000, 24646,  ...,  1029,  1000,   102]])}"
      ]
     },
     "execution_count": 12,
     "metadata": {},
     "output_type": "execute_result"
    }
   ],
   "source": [
    "text2 = '\"Sturgis telegraphed me that there was a big possibility of a new vein of oil down on the border,\" Pell was telling her. \"Some important men want to talk things over with me at Bisbee.I want to get started in a day or two.Don\\'t take your maid.It\\'s a rough country, but you\\'ll be all right.Just old clothes.You can ride a lot, so bring your habit.I\\'ll be busy most of the time; but I think you\\'ll like the trip.Never been down that way, have you?\"'\n",
    "whole_word_MO_tokenization_and_masking(tokenizer=tokenizer, nlp_model=nlp, sequence=text2)"
   ]
  },
  {
   "cell_type": "code",
   "execution_count": 13,
   "metadata": {},
   "outputs": [],
   "source": [
    "model = BertForMaskedLM(config=BertConfig())\n",
    "model.train()\n",
    "optimizer = AdamW(model.parameters(), lr=1e-5)"
   ]
  },
  {
   "cell_type": "code",
   "execution_count": 14,
   "metadata": {},
   "outputs": [],
   "source": [
    "outputs = model(**example_sentence_inputs, return_dict=True)"
   ]
  },
  {
   "cell_type": "code",
   "execution_count": 15,
   "metadata": {
    "scrolled": true
   },
   "outputs": [
    {
     "data": {
      "text/plain": [
       "MaskedLMOutput(loss=tensor(10.6964, grad_fn=<NllLossBackward>), logits=tensor([[[ 0.7364,  0.2646,  0.1149,  ...,  0.0814,  0.2446,  0.2514],\n",
       "         [-0.0501, -1.1074,  0.1117,  ...,  0.2692, -0.5424, -0.0633],\n",
       "         [ 0.7983, -0.4943, -0.4966,  ...,  0.4069, -1.0550,  0.3728],\n",
       "         ...,\n",
       "         [ 1.1218,  0.2370,  0.5952,  ...,  0.5059, -0.3531,  1.1506],\n",
       "         [ 1.1563, -0.7431, -0.4258,  ...,  1.0308, -0.7863,  0.3092],\n",
       "         [ 0.9667,  0.0130,  0.1943,  ..., -0.0961, -0.8283,  1.1607]],\n",
       "\n",
       "        [[ 0.6186, -0.2883, -0.0186,  ...,  0.5590,  0.1776,  0.9296],\n",
       "         [-0.0717, -0.8057, -0.2610,  ...,  0.1767, -1.0513,  0.1761],\n",
       "         [ 1.1157,  0.0442, -0.1142,  ...,  0.9568, -0.7546,  0.8545],\n",
       "         ...,\n",
       "         [ 0.6962,  0.1660,  0.0877,  ...,  0.9253,  0.4090,  0.6689],\n",
       "         [ 1.4367, -0.1008, -0.0666,  ...,  1.0879, -0.1390,  0.4630],\n",
       "         [ 1.6386, -0.7541,  0.2593,  ..., -0.0194, -0.9134,  0.8722]],\n",
       "\n",
       "        [[ 0.8383,  0.1662, -0.0925,  ...,  0.1206, -0.1585, -0.3940],\n",
       "         [ 0.6150, -0.4548, -0.0409,  ..., -0.0529, -0.5550, -0.1442],\n",
       "         [ 0.8866, -0.3979,  0.2230,  ..., -0.3328, -1.4489,  0.1946],\n",
       "         ...,\n",
       "         [ 1.2690, -0.4440,  0.9026,  ...,  1.0369, -0.4116,  0.5496],\n",
       "         [ 1.4611, -0.7288, -0.0525,  ...,  0.7543, -1.0682,  0.3273],\n",
       "         [ 1.4835,  0.2471,  0.5677,  ..., -0.1289, -0.7946,  0.7379]],\n",
       "\n",
       "        ...,\n",
       "\n",
       "        [[ 0.8561,  0.1601,  0.0263,  ..., -0.6633, -0.1415, -0.2924],\n",
       "         [ 0.2249, -0.5981, -0.2466,  ...,  0.2481, -0.7335,  0.5555],\n",
       "         [ 0.5430, -0.3021,  0.0410,  ...,  0.6359, -0.8836,  0.2729],\n",
       "         ...,\n",
       "         [ 1.2610,  0.4408, -0.0394,  ...,  0.7040, -0.0290,  0.3731],\n",
       "         [ 1.4352, -0.3372, -0.4011,  ...,  1.3421, -1.2590,  0.3254],\n",
       "         [ 1.7888,  0.1403,  0.1074,  ..., -0.0396, -0.0051,  0.7253]],\n",
       "\n",
       "        [[ 0.9796, -0.2587, -0.4354,  ...,  0.2572,  0.1002,  0.2918],\n",
       "         [ 0.4213, -0.8163, -0.0291,  ...,  0.1396, -0.4245,  0.4795],\n",
       "         [ 1.5172,  0.1282,  0.3018,  ...,  0.4105, -0.1500,  0.6803],\n",
       "         ...,\n",
       "         [ 0.5027,  0.1379,  0.1932,  ...,  1.0399,  0.1475,  0.0292],\n",
       "         [ 1.4344, -0.2797, -0.3616,  ...,  0.3721, -0.7989,  0.8876],\n",
       "         [ 1.2402, -0.2664,  0.0901,  ..., -0.0755, -0.3611,  0.6716]],\n",
       "\n",
       "        [[ 1.2710, -0.4007,  0.1107,  ...,  1.0369, -0.3011,  0.5792],\n",
       "         [ 0.4677, -0.8156, -0.0692,  ...,  0.0949, -0.0970,  0.1299],\n",
       "         [ 0.8631, -0.3245,  0.0850,  ...,  0.8119, -0.4684,  0.1045],\n",
       "         ...,\n",
       "         [ 0.6529,  0.3505,  0.0405,  ...,  0.4264,  0.5531,  0.9765],\n",
       "         [ 0.9203, -0.8196, -0.7286,  ...,  1.3409, -0.5892,  1.2680],\n",
       "         [ 1.1371, -0.1568,  0.3291,  ...,  0.1918, -0.3521,  1.4252]]],\n",
       "       grad_fn=<AddBackward0>), hidden_states=None, attentions=None)"
      ]
     },
     "execution_count": 15,
     "metadata": {},
     "output_type": "execute_result"
    }
   ],
   "source": [
    "outputs"
   ]
  },
  {
   "cell_type": "code",
   "execution_count": 16,
   "metadata": {
    "scrolled": true
   },
   "outputs": [],
   "source": [
    "loss = outputs.loss"
   ]
  },
  {
   "cell_type": "code",
   "execution_count": 17,
   "metadata": {},
   "outputs": [],
   "source": [
    "loss.backward()"
   ]
  },
  {
   "cell_type": "code",
   "execution_count": 18,
   "metadata": {},
   "outputs": [],
   "source": [
    "optimizer.step()"
   ]
  },
  {
   "cell_type": "code",
   "execution_count": 19,
   "metadata": {},
   "outputs": [
    {
     "data": {
      "text/plain": [
       "MaskedLMOutput(loss=tensor(10.0538, grad_fn=<NllLossBackward>), logits=tensor([[[ 1.3905, -0.2540, -0.0298,  ...,  0.8064,  0.4195,  0.3095],\n",
       "         [ 0.9665, -0.3469,  0.1393,  ...,  0.4941, -0.9038,  0.6805],\n",
       "         [ 0.3983, -0.5277, -0.1270,  ...,  0.3952, -0.4609,  0.1088],\n",
       "         ...,\n",
       "         [ 1.3302,  0.3248,  0.0718,  ...,  0.8641,  0.3007,  0.7843],\n",
       "         [ 1.8229, -0.9073,  0.1750,  ...,  1.4255, -0.6848,  0.7065],\n",
       "         [ 1.5671, -0.7720,  0.3958,  ..., -0.7300, -0.4401,  0.6746]],\n",
       "\n",
       "        [[ 1.3799, -0.1801,  0.2591,  ...,  0.4654, -0.0916,  0.5849],\n",
       "         [ 0.4687, -0.5094, -0.7868,  ...,  0.4853,  0.1096,  0.3783],\n",
       "         [ 1.0376, -0.0834, -0.6569,  ...,  1.2985, -0.7414,  0.2643],\n",
       "         ...,\n",
       "         [ 1.1771,  0.5741,  0.0878,  ...,  0.9046, -0.1206,  0.1959],\n",
       "         [ 1.1198, -0.8541, -0.8202,  ...,  1.3653, -0.6109,  0.5063],\n",
       "         [ 1.6488, -0.5187,  0.8358,  ...,  0.1345, -0.4083,  0.6425]],\n",
       "\n",
       "        [[ 0.7943, -0.4391, -0.2170,  ...,  0.7109,  0.5993,  0.8454],\n",
       "         [ 0.6976, -0.3357, -0.3008,  ...,  0.2300, -0.3293,  0.1146],\n",
       "         [ 0.7034, -0.1956,  0.0438,  ...,  0.6705, -0.8287,  0.3899],\n",
       "         ...,\n",
       "         [ 0.9578,  0.0954,  0.4592,  ...,  0.4382,  0.5578,  0.8676],\n",
       "         [ 0.6791, -0.3142, -0.0778,  ...,  0.8375, -0.6441,  0.3659],\n",
       "         [ 1.2323, -0.8862,  0.2789,  ..., -0.3296, -0.0827,  0.1542]],\n",
       "\n",
       "        ...,\n",
       "\n",
       "        [[ 1.0118, -0.3614, -0.0054,  ...,  0.8980,  0.4473,  0.6983],\n",
       "         [ 0.6465, -0.1171, -0.4193,  ...,  0.0438, -0.3506, -0.0923],\n",
       "         [ 0.3668, -0.2379, -0.4074,  ...,  0.4343, -0.7315, -0.1652],\n",
       "         ...,\n",
       "         [ 1.4387,  0.1089, -0.3860,  ...,  0.7683,  0.2731,  0.7004],\n",
       "         [ 0.8241, -0.3413, -0.7515,  ..., -0.0590, -0.3403,  0.9123],\n",
       "         [ 1.7159, -0.6122,  0.2199,  ...,  0.6845, -0.2955,  1.2411]],\n",
       "\n",
       "        [[ 0.7860, -0.2453,  0.2245,  ...,  0.7474,  0.3055,  0.1894],\n",
       "         [ 0.0189, -0.9423, -0.2519,  ...,  0.7257, -0.9306, -0.1204],\n",
       "         [ 0.8966, -0.1184, -0.4435,  ...,  0.8118, -0.1519,  0.5248],\n",
       "         ...,\n",
       "         [ 0.5250, -0.1642, -0.2686,  ...,  1.0286,  0.3490, -0.2053],\n",
       "         [ 0.9469, -0.6650, -0.1364,  ...,  1.4270, -0.2711,  0.5780],\n",
       "         [ 1.3680, -0.0659,  0.7146,  ..., -0.1605, -0.3560,  0.7156]],\n",
       "\n",
       "        [[ 0.3725,  0.0318, -0.1091,  ...,  0.1437,  0.0266,  0.4990],\n",
       "         [ 0.2051, -0.7951, -0.2860,  ...,  0.0725, -0.8364, -0.2386],\n",
       "         [ 0.5769,  0.3126,  0.1074,  ..., -0.1291, -0.4110, -0.5218],\n",
       "         ...,\n",
       "         [ 0.7960,  0.3195,  0.1543,  ...,  1.3236,  0.3271,  0.9504],\n",
       "         [ 1.2045, -0.8371, -0.3905,  ...,  0.9434, -0.5416,  1.0926],\n",
       "         [ 1.9853, -0.7730,  0.4320,  ..., -0.1731, -0.1003,  1.1013]]],\n",
       "       grad_fn=<AddBackward0>), hidden_states=None, attentions=None)"
      ]
     },
     "execution_count": 19,
     "metadata": {},
     "output_type": "execute_result"
    }
   ],
   "source": [
    "model(**example_sentence_inputs, return_dict=True)"
   ]
  },
  {
   "cell_type": "code",
   "execution_count": 20,
   "metadata": {},
   "outputs": [
    {
     "data": {
      "text/plain": [
       "<__main__.MODataset at 0x1abe9809f70>"
      ]
     },
     "execution_count": 20,
     "metadata": {},
     "output_type": "execute_result"
    }
   ],
   "source": [
    "class MODataset(torch.utils.data.Dataset):\n",
    "    def __init__(self, encodings):\n",
    "        self.encodings = {key: val for key, val in encodings.items() if key != 'labels'}\n",
    "        self.labels = encodings['labels']\n",
    "\n",
    "    def __getitem__(self, idx):\n",
    "        item = {key: val[idx] for key, val in self.encodings.items()}\n",
    "        item['labels'] = self.labels[idx]\n",
    "        return item\n",
    "\n",
    "    def __len__(self):\n",
    "        return len(self.labels)\n",
    "\n",
    "train_dataset = MODataset(example_sentence_inputs)\n",
    "train_dataset"
   ]
  },
  {
   "cell_type": "code",
   "execution_count": 24,
   "metadata": {},
   "outputs": [],
   "source": [
    "training_args = TrainingArguments(\n",
    "    output_dir='./results',          # output directory\n",
    "    num_train_epochs=3,              # total # of training epochs\n",
    "    per_device_train_batch_size=256,  # batch size per device during training\n",
    "    per_device_eval_batch_size=256,   # batch size for evaluation\n",
    "    learning_rate=1e-5,     \n",
    "    logging_dir='./logs',            # directory for storing logs\n",
    ")\n",
    "\n",
    "trainer = Trainer(\n",
    "    model=model,                         # the instantiated 🤗 Transformers model to be trained\n",
    "    args=training_args,                  # training arguments, defined above\n",
    "    train_dataset=train_dataset,         # training dataset\n",
    "    eval_dataset=None            # evaluation dataset\n",
    ")"
   ]
  },
  {
   "cell_type": "code",
   "execution_count": 31,
   "metadata": {
    "scrolled": false
   },
   "outputs": [
    {
     "data": {
      "application/vnd.jupyter.widget-view+json": {
       "model_id": "3456cff870f04ba38fa3bf711de7d3e2",
       "version_major": 2,
       "version_minor": 0
      },
      "text/plain": [
       "HBox(children=(FloatProgress(value=0.0, description='Epoch', max=3.0, style=ProgressStyle(description_width='i…"
      ]
     },
     "metadata": {},
     "output_type": "display_data"
    },
    {
     "data": {
      "application/vnd.jupyter.widget-view+json": {
       "model_id": "abb305127fd74dfaa78bb235f2b192d5",
       "version_major": 2,
       "version_minor": 0
      },
      "text/plain": [
       "HBox(children=(FloatProgress(value=0.0, description='Iteration', max=1.0, style=ProgressStyle(description_widt…"
      ]
     },
     "metadata": {},
     "output_type": "display_data"
    },
    {
     "name": "stdout",
     "output_type": "stream",
     "text": [
      "\n"
     ]
    },
    {
     "data": {
      "application/vnd.jupyter.widget-view+json": {
       "model_id": "6a82bc0480fe410b88e18553c5d7b769",
       "version_major": 2,
       "version_minor": 0
      },
      "text/plain": [
       "HBox(children=(FloatProgress(value=0.0, description='Iteration', max=1.0, style=ProgressStyle(description_widt…"
      ]
     },
     "metadata": {},
     "output_type": "display_data"
    },
    {
     "name": "stdout",
     "output_type": "stream",
     "text": [
      "\n"
     ]
    },
    {
     "data": {
      "application/vnd.jupyter.widget-view+json": {
       "model_id": "fb4a52d8f73645e69e4313a48829f1af",
       "version_major": 2,
       "version_minor": 0
      },
      "text/plain": [
       "HBox(children=(FloatProgress(value=0.0, description='Iteration', max=1.0, style=ProgressStyle(description_widt…"
      ]
     },
     "metadata": {},
     "output_type": "display_data"
    },
    {
     "name": "stdout",
     "output_type": "stream",
     "text": [
      "\n",
      "\n"
     ]
    },
    {
     "data": {
      "text/plain": [
       "TrainOutput(global_step=3, training_loss=3.4128875732421875)"
      ]
     },
     "execution_count": 31,
     "metadata": {},
     "output_type": "execute_result"
    }
   ],
   "source": [
    "trainer.train()"
   ]
  },
  {
   "cell_type": "code",
   "execution_count": null,
   "metadata": {},
   "outputs": [],
   "source": []
  },
  {
   "cell_type": "code",
   "execution_count": null,
   "metadata": {},
   "outputs": [],
   "source": []
  },
  {
   "cell_type": "code",
   "execution_count": null,
   "metadata": {},
   "outputs": [],
   "source": []
  },
  {
   "cell_type": "code",
   "execution_count": null,
   "metadata": {},
   "outputs": [],
   "source": []
  },
  {
   "cell_type": "markdown",
   "metadata": {},
   "source": [
    "Testing some classification model\n",
    "===================="
   ]
  },
  {
   "cell_type": "code",
   "execution_count": null,
   "metadata": {},
   "outputs": [],
   "source": [
    "from transformers import AdamW\n",
    "# From paper:\n",
    "# lr: 1e-4\n",
    "# Beta1 = 0.9 (default)\n",
    "# Beta2 = 0.999 (default)\n",
    "# L2 weight decay = 0.01\n",
    "\n",
    "# Longer sequences are disproportionately expensive\n",
    "# because attention is quadratic to the sequence\n",
    "# length. To speed up pretraing in our experiments,\n",
    "# we pre-train the model with sequence length of\n",
    "# 128 for 90% of the steps. Then, we train the rest\n",
    "# 10% of the steps of sequence of 512 to learn the\n",
    "# positional embeddings.\n",
    "\n",
    "\n",
    "\n",
    "#Batch size 256 for 1e6 steps\n",
    "\n",
    "\n",
    "optimizer = AdamW(model.parameters(), lr=1e-4, weight_decay=0.01)"
   ]
  },
  {
   "cell_type": "code",
   "execution_count": null,
   "metadata": {},
   "outputs": [],
   "source": [
    "sentences[0]"
   ]
  },
  {
   "cell_type": "code",
   "execution_count": null,
   "metadata": {},
   "outputs": [],
   "source": []
  },
  {
   "cell_type": "code",
   "execution_count": null,
   "metadata": {},
   "outputs": [],
   "source": [
    "#doc = nlp(\"That's a lot better. He was finally walking to the beaches. There he had a meeting with his father. Afterwards, he read a book. The fishing rod that he used was really old\")\n",
    "doc = nlp(\"When on board H.M.S. 'Beagle,' as naturalist, I was much struck with certain facts in the distribution of the inhabitants of South America, and in the geological relations of the present to the past inhabitants of that continent.\")\n",
    "\n",
    "for token in doc:\n",
    "    print(token.text, token.pos_, token.lemma_)"
   ]
  },
  {
   "cell_type": "code",
   "execution_count": null,
   "metadata": {},
   "outputs": [],
   "source": [
    "doc = nlp(\"San Francisco is a long drive away from here. Ah, I forgot what I was doing. He had to get a new pair of shoes.\")\n",
    "\n",
    "for token in doc:\n",
    "    print(token.text, token.pos_, token.lemma_)"
   ]
  }
 ],
 "metadata": {
  "kernelspec": {
   "display_name": "Python 3",
   "language": "python",
   "name": "python3"
  },
  "language_info": {
   "codemirror_mode": {
    "name": "ipython",
    "version": 3
   },
   "file_extension": ".py",
   "mimetype": "text/x-python",
   "name": "python",
   "nbconvert_exporter": "python",
   "pygments_lexer": "ipython3",
   "version": "3.8.3"
  }
 },
 "nbformat": 4,
 "nbformat_minor": 4
}
